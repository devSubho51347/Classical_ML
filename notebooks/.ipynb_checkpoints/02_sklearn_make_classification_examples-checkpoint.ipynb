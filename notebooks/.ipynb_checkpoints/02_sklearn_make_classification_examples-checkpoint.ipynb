{
 "cells": [
  {
   "cell_type": "markdown",
   "metadata": {},
   "source": [
    "# Understanding sklearn.make_classification()\n",
    "\n",
    "This notebook provides a detailed exploration of the `make_classification()` function from scikit-learn, which is used to generate synthetic datasets for classification problems.\n",
    "\n",
    "## Parameters Overview\n",
    "- `n_samples`: The number of samples\n",
    "- `n_features`: The total number of features\n",
    "- `n_informative`: The number of informative features\n",
    "- `n_redundant`: The number of redundant features\n",
    "- `n_repeated`: The number of duplicated features\n",
    "- `n_classes`: The number of classes\n",
    "- `n_clusters_per_class`: The number of clusters per class\n",
    "- `weights`: The proportions of samples assigned to each class\n",
    "- `flip_y`: The fraction of samples whose class is randomly flipped\n",
    "- `class_sep`: The factor multiplying the hypercube size"
   ]
  },
  {
   "cell_type": "code",
   "execution_count": null,
   "metadata": {},
   "source": [
    "# Import required libraries\n",
    "import numpy as np\n",
    "import pandas as pd\n",
    "import matplotlib.pyplot as plt\n",
    "import seaborn as sns\n",
    "from sklearn.datasets import make_classification\n",
    "from sklearn.decomposition import PCA\n",
    "\n",
    "# Set random seed for reproducibility\n",
    "np.random.seed(42)\n",
    "\n",
    "# Set plotting style\n",
    "plt.style.use('seaborn')\n",
    "sns.set_palette('husl')"
   ]
  },
  {
   "cell_type": "markdown",
   "metadata": {},
   "source": [
    "## 1. Basic Example: Binary Classification"
   ]
  },
  {
   "cell_type": "code",
   "execution_count": null,
   "metadata": {},
   "source": [
    "# Generate a simple binary classification dataset\n",
    "X, y = make_classification(\n",
    "    n_samples=1000,\n",
    "    n_features=2,\n",
    "    n_informative=2,\n",
    "    n_redundant=0,\n",
    "    n_classes=2,\n",
    "    random_state=42\n",
    ")\n",
    "\n",
    "# Plot the dataset\n",
    "plt.figure(figsize=(10, 6))\n",
    "plt.scatter(X[:, 0], X[:, 1], c=y, cmap='viridis')\n",
    "plt.title('Basic Binary Classification Dataset')\n",
    "plt.xlabel('Feature 1')\n",
    "plt.ylabel('Feature 2')\n",
    "plt.colorbar(label='Class')\n",
    "plt.show()"
   ]
  },
  {
   "cell_type": "markdown",
   "metadata": {},
   "source": [
    "## 2. Exploring n_informative and n_redundant"
   ]
  },
  {
   "cell_type": "code",
   "execution_count": null,
   "metadata": {},
   "source": [
    "def plot_feature_importance(X, y, title):\n",
    "    # Calculate correlation with target\n",
    "    correlations = [abs(np.corrcoef(X[:, i], y)[0, 1]) for i in range(X.shape[1])]\n",
    "    \n",
    "    # Plot feature correlations\n",
    "    plt.figure(figsize=(12, 4))\n",
    "    plt.bar(range(len(correlations)), correlations)\n",
    "    plt.title(f'Feature Correlations with Target - {title}')\n",
    "    plt.xlabel('Feature Index')\n",
    "    plt.ylabel('Absolute Correlation')\n",
    "    plt.show()\n",
    "\n",
    "# Generate dataset with informative and redundant features\n",
    "X, y = make_classification(\n",
    "    n_samples=1000,\n",
    "    n_features=10,\n",
    "    n_informative=3,\n",
    "    n_redundant=4,\n",
    "    n_repeated=0,\n",
    "    random_state=42\n",
    ")\n",
    "\n",
    "plot_feature_importance(X, y, 'With Redundant Features')"
   ]
  },
  {
   "cell_type": "markdown",
   "metadata": {},
   "source": [
    "## 3. Multi-class Classification"
   ]
  },
  {
   "cell_type": "code",
   "execution_count": null,
   "metadata": {},
   "source": [
    "# Generate multi-class dataset\n",
    "X, y = make_classification(\n",
    "    n_samples=1000,\n",
    "    n_features=2,\n",
    "    n_informative=2,\n",
    "    n_redundant=0,\n",
    "    n_classes=4,\n",
    "    n_clusters_per_class=1,\n",
    "    random_state=42\n",
    ")\n",
    "\n",
    "# Plot\n",
    "plt.figure(figsize=(10, 6))\n",
    "scatter = plt.scatter(X[:, 0], X[:, 1], c=y, cmap='viridis')\n",
    "plt.title('Multi-class Classification Dataset')\n",
    "plt.xlabel('Feature 1')\n",
    "plt.ylabel('Feature 2')\n",
    "plt.colorbar(scatter, label='Class')\n",
    "plt.show()"
   ]
  },
  {
   "cell_type": "markdown",
   "metadata": {},
   "source": [
    "## 4. Class Separation (class_sep parameter)"
   ]
  },
  {
   "cell_type": "code",
   "execution_count": null,
   "metadata": {},
   "source": [
    "fig, axes = plt.subplots(1, 3, figsize=(18, 5))\n",
    "separations = [0.5, 2.0, 4.0]\n",
    "\n",
    "for i, sep in enumerate(separations):\n",
    "    X, y = make_classification(\n",
    "        n_samples=1000,\n",
    "        n_features=2,\n",
    "        n_informative=2,\n",
    "        n_redundant=0,\n",
    "        n_classes=2,\n",
    "        class_sep=sep,\n",
    "        random_state=42\n",
    "    )\n",
    "    \n",
    "    axes[i].scatter(X[:, 0], X[:, 1], c=y, cmap='viridis')\n",
    "    axes[i].set_title(f'Class Separation = {sep}')\n",
    "    axes[i].set_xlabel('Feature 1')\n",
    "    axes[i].set_ylabel('Feature 2')\n",
    "\n",
    "plt.tight_layout()\n",
    "plt.show()"
   ]
  },
  {
   "cell_type": "markdown",
   "metadata": {},
   "source": [
    "## 5. Clusters per Class"
   ]
  },
  {
   "cell_type": "code",
   "execution_count": null,
   "metadata": {},
   "source": [
    "fig, axes = plt.subplots(1, 3, figsize=(18, 5))\n",
    "clusters = [1, 2, 3]\n",
    "\n",
    "for i, n_clusters in enumerate(clusters):\n",
    "    X, y = make_classification(\n",
    "        n_samples=1000,\n",
    "        n_features=2,\n",
    "        n_informative=2,\n",
    "        n_redundant=0,\n",
    "        n_classes=2,\n",
    "        n_clusters_per_class=n_clusters,\n",
    "        random_state=42\n",
    "    )\n",
    "    \n",
    "    axes[i].scatter(X[:, 0], X[:, 1], c=y, cmap='viridis')\n",
    "    axes[i].set_title(f'{n_clusters} Cluster(s) per Class')\n",
    "    axes[i].set_xlabel('Feature 1')\n",
    "    axes[i].set_ylabel('Feature 2')\n",
    "\n",
    "plt.tight_layout()\n",
    "plt.show()"
   ]
  },
  {
   "cell_type": "markdown",
   "metadata": {},
   "source": [
    "## 6. Class Weights and Imbalanced Data"
   ]
  },
  {
   "cell_type": "code",
   "execution_count": null,
   "metadata": {},
   "source": [
    "# Generate imbalanced dataset\n",
    "X, y = make_classification(\n",
    "    n_samples=1000,\n",
    "    n_features=2,\n",
    "    n_informative=2,\n",
    "    n_redundant=0,\n",
    "    n_classes=2,\n",
    "    weights=[0.9, 0.1],  # 90% class 0, 10% class 1\n",
    "    random_state=42\n",
    ")\n",
    "\n",
    "# Plot dataset\n",
    "plt.figure(figsize=(10, 6))\n",
    "plt.scatter(X[:, 0], X[:, 1], c=y, cmap='viridis')\n",
    "plt.title('Imbalanced Dataset (90-10 split)')\n",
    "plt.xlabel('Feature 1')\n",
    "plt.ylabel('Feature 2')\n",
    "\n",
    "# Add class distribution information\n",
    "class_counts = np.bincount(y)\n",
    "plt.text(0.02, 0.98, f'Class 0: {class_counts[0]} samples\\nClass 1: {class_counts[1]} samples',\n",
    "         transform=plt.gca().transAxes, verticalalignment='top')\n",
    "\n",
    "plt.colorbar(label='Class')\n",
    "plt.show()"
   ]
  },
  {
   "cell_type": "markdown",
   "metadata": {},
   "source": [
    "## 7. Noisy Labels (flip_y parameter)"
   ]
  },
  {
   "cell_type": "code",
   "execution_count": null,
   "metadata": {},
   "source": [
    "fig, axes = plt.subplots(1, 3, figsize=(18, 5))\n",
    "flip_ratios = [0.0, 0.1, 0.3]\n",
    "\n",
    "for i, flip in enumerate(flip_ratios):\n",
    "    X, y = make_classification(\n",
    "        n_samples=1000,\n",
    "        n_features=2,\n",
    "        n_informative=2,\n",
    "        n_redundant=0,\n",
    "        n_classes=2,\n",
    "        flip_y=flip,\n",
    "        random_state=42\n",
    "    )\n",
    "    \n",
    "    axes[i].scatter(X[:, 0], X[:, 1], c=y, cmap='viridis')\n",
    "    axes[i].set_title(f'Label Noise = {flip*100}%')\n",
    "    axes[i].set_xlabel('Feature 1')\n",
    "    axes[i].set_ylabel('Feature 2')\n",
    "\n",
    "plt.tight_layout()\n",
    "plt.show()"
   ]
  },
  {
   "cell_type": "markdown",
   "metadata": {},
   "source": [
    "## 8. High-dimensional Data Visualization"
   ]
  },
  {
   "cell_type": "code",
   "execution_count": null,
   "metadata": {},
   "source": [
    "# Generate high-dimensional dataset\n",
    "X, y = make_classification(\n",
    "    n_samples=1000,\n",
    "    n_features=20,\n",
    "    n_informative=5,\n",
    "    n_redundant=10,\n",
    "    n_repeated=5,\n",
    "    n_classes=3,\n",
    "    random_state=42\n",
    ")\n",
    "\n",
    "# Apply PCA for visualization\n",
    "pca = PCA(n_components=2)\n",
    "X_pca = pca.fit_transform(X)\n",
    "\n",
    "# Plot\n",
    "plt.figure(figsize=(12, 6))\n",
    "\n",
    "plt.subplot(1, 2, 1)\n",
    "plt.scatter(X_pca[:, 0], X_pca[:, 1], c=y, cmap='viridis')\n",
    "plt.title('PCA Visualization of High-dimensional Data')\n",
    "plt.xlabel('First Principal Component')\n",
    "plt.ylabel('Second Principal Component')\n",
    "\n",
    "# Plot explained variance ratio\n",
    "plt.subplot(1, 2, 2)\n",
    "explained_var = pca.explained_variance_ratio_\n",
    "plt.bar(range(len(explained_var)), explained_var[:10])\n",
    "plt.title('Explained Variance Ratio (First 10 Components)')\n",
    "plt.xlabel('Principal Component')\n",
    "plt.ylabel('Explained Variance Ratio')\n",
    "\n",
    "plt.tight_layout()\n",
    "plt.show()"
   ]
  },
  {
   "cell_type": "markdown",
   "metadata": {},
   "source": [
    "## Summary of Key Parameters\n",
    "\n",
    "1. **Basic Parameters**:\n",
    "   - `n_samples`: Controls dataset size\n",
    "   - `n_features`: Total number of features\n",
    "   - `n_classes`: Number of classes\n",
    "\n",
    "2. **Feature Control**:\n",
    "   - `n_informative`: Features that are actually useful\n",
    "   - `n_redundant`: Features that are linear combinations of informative features\n",
    "   - `n_repeated`: Duplicated features\n",
    "\n",
    "3. **Class Control**:\n",
    "   - `n_clusters_per_class`: Complexity of class distributions\n",
    "   - `class_sep`: Separation between classes\n",
    "   - `weights`: Class balance control\n",
    "\n",
    "4. **Noise Control**:\n",
    "   - `flip_y`: Label noise\n",
    "   - `random_state`: Reproducibility control"
   ]
  }
 ],
 "metadata": {
  "kernelspec": {
   "display_name": "Python 3",
   "language": "python",
   "name": "python3"
  },
  "language_info": {
   "codemirror_mode": {
    "name": "ipython",
    "version": 3
   },
   "file_extension": ".py",
   "mimetype": "text/x-python",
   "name": "python",
   "nbconvert_exporter": "python",
   "pygments_lexer": "ipython3",
   "version": "3.10.0"
  }
 },
 "nbformat": 4,
 "nbformat_minor": 4
}
